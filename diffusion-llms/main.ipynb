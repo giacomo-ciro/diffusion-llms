{
 "cells": [
  {
   "cell_type": "markdown",
   "metadata": {},
   "source": [
    "Generate with pre-trained model.\n",
    "\n",
    "![dump/diffugpt_tokenizer.png](dump/diffugpt_tokenizer.png)"
   ]
  },
  {
   "cell_type": "code",
   "execution_count": 33,
   "metadata": {},
   "outputs": [
    {
     "name": "stdout",
     "output_type": "stream",
     "text": [
      "Modifying HF GPT2Model to accept custom attention mask...\n",
      "Loading pre-trained DiffuGPT...\n",
      "<All keys matched successfully>\n",
      "tensor([[False, False, False, False, False, False, False, False, False, False,\n",
      "         False, False, False, False, False, False, False, False, False, False,\n",
      "         False, False, False, False, False,  True,  True, False, False, False,\n",
      "         False, False, False, False, False]])\n",
      "tensor([[False, False, False, False, False, False, False, False, False, False,\n",
      "         False, False, False, False, False, False, False, False, False, False,\n",
      "         False, False, False, False, False, False, False, False, False,  True,\n",
      "          True, False, False, False, False]])\n",
      "tensor([[False, False, False, False, False, False, False, False, False, False,\n",
      "         False, False, False, False, False, False, False, False, False, False,\n",
      "         False, False, False, False, False, False, False, False, False, False,\n",
      "         False, False,  True, False,  True]])\n",
      "tensor([[False, False, False, False, False, False, False, False, False, False,\n",
      "         False, False, False, False, False, False, False, False, False, False,\n",
      "         False, False, False, False, False, False, False, False, False, False,\n",
      "         False,  True, False,  True, False]])\n",
      "tensor([[False, False, False, False, False, False, False, False, False, False,\n",
      "         False, False, False, False, False, False, False, False, False, False,\n",
      "         False, False, False, False, False, False, False,  True,  True, False,\n",
      "         False, False, False, False, False]])\n",
      "exiting at step  3\n",
      "<|endoftext|>Then, the man writes over the snow covering the window of a car, and a woman wearing winter clothes smiles. then<mask><mask><mask><mask><mask><mask><mask><mask><mask><mask>\n",
      "<|endoftext|>Then, the man writes over the snow covering the window of a car, and a woman wearing winter clothes smiles. then, the<mask><mask><mask><mask><mask><mask><mask><mask>\n",
      "<|endoftext|>Then, the man writes over the snow covering the window of a car, and a woman wearing winter clothes smiles. then, the<mask><mask> that,<mask><mask><mask><mask>\n",
      "<|endoftext|>Then, the man writes over the snow covering the window of a car, and a woman wearing winter clothes smiles. then, the<mask><mask> that,<mask>,<mask> nobility\n",
      "<|endoftext|>Then, the man writes over the snow covering the window of a car, and a woman wearing winter clothes smiles. then, the<mask><mask> that, when, Then nobility\n",
      "<|endoftext|>Then, the man writes over the snow covering the window of a car, and a woman wearing winter clothes smiles. then, the Anders providing that, when, Then nobility\n"
     ]
    }
   ],
   "source": [
    "import tiktoken\n",
    "import torch\n",
    "from utils import get_annealing_mask\n",
    "import model\n",
    "from importlib import reload\n",
    "reload(model)\n",
    "\n",
    "# Load model\n",
    "gpt = model.GPT2(\"local_config.json\")\n",
    "\n",
    "# Load Tokenizer\n",
    "tokenizer = tiktoken.get_encoding(\"gpt2\")\n",
    "\n",
    "# Prompt\n",
    "prompt = \"Then, the man writes over the snow covering the window of a car, and a woman wearing winter clothes smiles. then\"\n",
    "\n",
    "mask_token = tokenizer.decode([10541])\n",
    "\n",
    "input_ids = torch.tensor(\n",
    "    [50256] + tokenizer.encode(prompt)\n",
    ").unsqueeze(0)\n",
    "\n",
    "xs = gpt.generate(input_ids, max_new_tokens=10)\n",
    "\n",
    "for x in xs:\n",
    "    out = tokenizer.decode(\n",
    "        x[0].tolist()\n",
    "    )\n",
    "    out = out.replace(mask_token, \"<mask>\")\n",
    "    print(out)"
   ]
  },
  {
   "cell_type": "markdown",
   "metadata": {},
   "source": [
    "## Test training pipeline"
   ]
  },
  {
   "cell_type": "code",
   "execution_count": 9,
   "metadata": {},
   "outputs": [
    {
     "data": {
      "text/plain": [
       "<torch.utils.data.dataloader.DataLoader at 0x7f3d6cb34e30>"
      ]
     },
     "execution_count": 9,
     "metadata": {},
     "output_type": "execute_result"
    }
   ],
   "source": [
    "from datamodule import MemmapDataModule\n",
    "\n",
    "dm = MemmapDataModule(\"local_config.json\")\n",
    "\n",
    "dm.setup()\n",
    "dm.train_dataset[0]\n",
    "dm.train_dataloader()"
   ]
  }
 ],
 "metadata": {
  "kernelspec": {
   "display_name": "brimax",
   "language": "python",
   "name": "python3"
  },
  "language_info": {
   "codemirror_mode": {
    "name": "ipython",
    "version": 3
   },
   "file_extension": ".py",
   "mimetype": "text/x-python",
   "name": "python",
   "nbconvert_exporter": "python",
   "pygments_lexer": "ipython3",
   "version": "3.12.0"
  }
 },
 "nbformat": 4,
 "nbformat_minor": 2
}
