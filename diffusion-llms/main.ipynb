{
 "cells": [
  {
   "cell_type": "markdown",
   "metadata": {},
   "source": [
    "Generate with pre-trained model.\n",
    "\n",
    "![dump/diffugpt_tokenizer.png](dump/diffugpt_tokenizer.png)"
   ]
  },
  {
   "cell_type": "code",
   "execution_count": 33,
   "metadata": {},
   "outputs": [
    {
     "name": "stdout",
     "output_type": "stream",
     "text": [
      "Modifying HF GPT2Model to accept custom attention mask...\n",
      "Loading pre-trained DiffuGPT...\n",
      "<All keys matched successfully>\n",
      "tensor([[False, False, False, False, False, False, False, False, False, False,\n",
      "         False, False, False, False, False, False, False, False, False, False,\n",
      "         False, False, False, False, False,  True,  True, False, False, False,\n",
      "         False, False, False, False, False]])\n",
      "tensor([[False, False, False, False, False, False, False, False, False, False,\n",
      "         False, False, False, False, False, False, False, False, False, False,\n",
      "         False, False, False, False, False, False, False, False, False,  True,\n",
      "          True, False, False, False, False]])\n",
      "tensor([[False, False, False, False, False, False, False, False, False, False,\n",
      "         False, False, False, False, False, False, False, False, False, False,\n",
      "         False, False, False, False, False, False, False, False, False, False,\n",
      "         False, False,  True, False,  True]])\n",
      "tensor([[False, False, False, False, False, False, False, False, False, False,\n",
      "         False, False, False, False, False, False, False, False, False, False,\n",
      "         False, False, False, False, False, False, False, False, False, False,\n",
      "         False,  True, False,  True, False]])\n",
      "tensor([[False, False, False, False, False, False, False, False, False, False,\n",
      "         False, False, False, False, False, False, False, False, False, False,\n",
      "         False, False, False, False, False, False, False,  True,  True, False,\n",
      "         False, False, False, False, False]])\n",
      "exiting at step  3\n",
      "<|endoftext|>Then, the man writes over the snow covering the window of a car, and a woman wearing winter clothes smiles. then<mask><mask><mask><mask><mask><mask><mask><mask><mask><mask>\n",
      "<|endoftext|>Then, the man writes over the snow covering the window of a car, and a woman wearing winter clothes smiles. then, the<mask><mask><mask><mask><mask><mask><mask><mask>\n",
      "<|endoftext|>Then, the man writes over the snow covering the window of a car, and a woman wearing winter clothes smiles. then, the<mask><mask> that,<mask><mask><mask><mask>\n",
      "<|endoftext|>Then, the man writes over the snow covering the window of a car, and a woman wearing winter clothes smiles. then, the<mask><mask> that,<mask>,<mask> nobility\n",
      "<|endoftext|>Then, the man writes over the snow covering the window of a car, and a woman wearing winter clothes smiles. then, the<mask><mask> that, when, Then nobility\n",
      "<|endoftext|>Then, the man writes over the snow covering the window of a car, and a woman wearing winter clothes smiles. then, the Anders providing that, when, Then nobility\n"
     ]
    }
   ],
   "source": [
    "import tiktoken\n",
    "import torch\n",
    "from utils import get_annealing_mask\n",
    "import model\n",
    "from importlib import reload\n",
    "reload(model)\n",
    "\n",
    "# Load model\n",
    "gpt = model.GPT2(\"local_config.json\")\n",
    "\n",
    "# Load Tokenizer\n",
    "tokenizer = tiktoken.get_encoding(\"gpt2\")\n",
    "\n",
    "# Prompt\n",
    "prompt = \"Then, the man writes over the snow covering the window of a car, and a woman wearing winter clothes smiles. then\"\n",
    "\n",
    "mask_token = tokenizer.decode([10541])\n",
    "\n",
    "input_ids = torch.tensor(\n",
    "    [50256] + tokenizer.encode(prompt)\n",
    ").unsqueeze(0)\n",
    "\n",
    "xs = gpt.generate(input_ids, max_new_tokens=10)\n",
    "\n",
    "for x in xs:\n",
    "    out = tokenizer.decode(\n",
    "        x[0].tolist()\n",
    "    )\n",
    "    out = out.replace(mask_token, \"<mask>\")\n",
    "    print(out)"
   ]
  },
  {
   "cell_type": "markdown",
   "metadata": {},
   "source": [
    "## Test training pipeline"
   ]
  },
  {
   "cell_type": "code",
   "execution_count": 26,
   "metadata": {},
   "outputs": [
    {
     "name": "stdout",
     "output_type": "stream",
     "text": [
      "Modifying HF GPT2Model to accept custom attention mask...\n",
      "Initializing new gpt2...\n"
     ]
    }
   ],
   "source": [
    "from importlib import reload\n",
    "import torch\n",
    "import model\n",
    "reload(model)\n",
    "\n",
    "gpt = model.GPT2(\"local_config.json\")\n",
    "\n",
    "B, C = 2, 10\n",
    "\n",
    "sentence = torch.randint(0, 100, size = (B, C+1), dtype=int)\n",
    "input_ids = sentence[:, :-1].clone()\n",
    "targets = sentence[:, 1:].clone()\n",
    "input_mask = torch.rand(size=(B, C)) < 0.4\n",
    "\n",
    "batch = (input_ids, targets, input_mask)\n",
    "attention_mask = torch.ones(size = (B, C, C)).unsqueeze(1).to(bool)\n",
    "\n",
    "\n",
    "# gpt.training_step(batch, 0)"
   ]
  },
  {
   "cell_type": "code",
   "execution_count": 28,
   "metadata": {},
   "outputs": [
    {
     "name": "stdout",
     "output_type": "stream",
     "text": [
      "tensor([[False, False, False,  True, False, False,  True, False,  True, False],\n",
      "        [False, False, False, False, False,  True,  True, False,  True,  True]])\n"
     ]
    },
    {
     "data": {
      "text/plain": [
       "tensor([[[[False, False, False,  True, False, False,  True, False,  True, False],\n",
       "          [False, False, False,  True, False, False,  True, False,  True, False],\n",
       "          [False, False, False,  True, False, False,  True, False,  True, False],\n",
       "          [False, False, False,  True, False, False,  True, False,  True, False],\n",
       "          [False, False, False,  True, False, False,  True, False,  True, False],\n",
       "          [False, False, False,  True, False, False,  True, False,  True, False],\n",
       "          [False, False, False,  True, False, False,  True, False,  True, False],\n",
       "          [False, False, False,  True, False, False,  True, False,  True, False],\n",
       "          [False, False, False,  True, False, False,  True, False,  True, False],\n",
       "          [False, False, False,  True, False, False,  True, False,  True, False]]],\n",
       "\n",
       "\n",
       "        [[[False, False, False, False, False,  True,  True, False,  True,  True],\n",
       "          [False, False, False, False, False,  True,  True, False,  True,  True],\n",
       "          [False, False, False, False, False,  True,  True, False,  True,  True],\n",
       "          [False, False, False, False, False,  True,  True, False,  True,  True],\n",
       "          [False, False, False, False, False,  True,  True, False,  True,  True],\n",
       "          [False, False, False, False, False,  True,  True, False,  True,  True],\n",
       "          [False, False, False, False, False,  True,  True, False,  True,  True],\n",
       "          [False, False, False, False, False,  True,  True, False,  True,  True],\n",
       "          [False, False, False, False, False,  True,  True, False,  True,  True],\n",
       "          [False, False, False, False, False,  True,  True, False,  True,  True]]]])"
      ]
     },
     "execution_count": 28,
     "metadata": {},
     "output_type": "execute_result"
    }
   ],
   "source": [
    "print(input_mask)\n",
    "attention_mask * input_mask[:, None, None, :].expand(-1, -1, attention_mask.shape[2], -1)"
   ]
  },
  {
   "cell_type": "markdown",
   "metadata": {},
   "source": [
    "## Insepct the length on examples in FineWeb dataset"
   ]
  },
  {
   "cell_type": "code",
   "execution_count": 1,
   "metadata": {},
   "outputs": [
    {
     "name": "stderr",
     "output_type": "stream",
     "text": [
      "/home/brimax/miniconda3/envs/brimax/lib/python3.12/site-packages/tqdm/auto.py:21: TqdmWarning: IProgress not found. Please update jupyter and ipywidgets. See https://ipywidgets.readthedocs.io/en/stable/user_install.html\n",
      "  from .autonotebook import tqdm as notebook_tqdm\n"
     ]
    },
    {
     "name": "stdout",
     "output_type": "stream",
     "text": [
      "Counting valid samples...\n",
      "Currently at sample: 0\n",
      "Currently at sample: 1000\n",
      "Currently at sample: 2000\n",
      "Currently at sample: 3000\n",
      "Currently at sample: 4000\n",
      "Currently at sample: 5000\n",
      "Currently at sample: 6000\n",
      "Currently at sample: 7000\n",
      "Currently at sample: 8000\n",
      "Currently at sample: 9000\n",
      "Currently at sample: 10000\n",
      "Currently at sample: 11000\n",
      "Currently at sample: 12000\n",
      "Currently at sample: 13000\n",
      "Currently at sample: 14000\n",
      "Currently at sample: 15000\n",
      "Currently at sample: 16000\n",
      "Currently at sample: 17000\n",
      "Currently at sample: 18000\n",
      "Currently at sample: 19000\n",
      "Currently at sample: 20000\n",
      "Currently at sample: 21000\n",
      "Currently at sample: 22000\n",
      "Currently at sample: 23000\n",
      "Currently at sample: 24000\n",
      "Currently at sample: 25000\n",
      "Currently at sample: 26000\n",
      "Currently at sample: 27000\n",
      "Currently at sample: 28000\n",
      "Currently at sample: 29000\n",
      "Currently at sample: 30000\n",
      "Currently at sample: 31000\n",
      "Currently at sample: 32000\n",
      "Currently at sample: 33000\n",
      "Currently at sample: 34000\n",
      "Currently at sample: 35000\n",
      "Currently at sample: 36000\n",
      "Currently at sample: 37000\n",
      "Currently at sample: 38000\n",
      "Currently at sample: 39000\n",
      "Currently at sample: 40000\n",
      "Currently at sample: 41000\n",
      "Currently at sample: 42000\n",
      "Currently at sample: 43000\n",
      "Currently at sample: 44000\n",
      "Currently at sample: 45000\n",
      "Currently at sample: 46000\n",
      "Currently at sample: 47000\n",
      "Currently at sample: 48000\n",
      "Currently at sample: 49000\n",
      "Currently at sample: 50000\n",
      "Currently at sample: 51000\n",
      "Currently at sample: 52000\n",
      "Currently at sample: 53000\n",
      "Currently at sample: 54000\n",
      "Currently at sample: 55000\n",
      "Currently at sample: 56000\n",
      "Currently at sample: 57000\n",
      "Currently at sample: 58000\n",
      "Currently at sample: 59000\n",
      "Currently at sample: 60000\n",
      "Currently at sample: 61000\n",
      "Currently at sample: 62000\n",
      "Currently at sample: 63000\n",
      "Currently at sample: 64000\n",
      "Currently at sample: 65000\n",
      "Currently at sample: 66000\n",
      "Currently at sample: 67000\n",
      "Currently at sample: 68000\n",
      "Currently at sample: 69000\n",
      "Currently at sample: 70000\n",
      "Currently at sample: 71000\n",
      "Currently at sample: 72000\n",
      "Currently at sample: 73000\n",
      "Currently at sample: 74000\n",
      "Currently at sample: 75000\n",
      "Currently at sample: 76000\n",
      "Currently at sample: 77000\n",
      "Currently at sample: 78000\n",
      "Currently at sample: 79000\n",
      "Currently at sample: 80000\n",
      "Currently at sample: 81000\n",
      "Currently at sample: 82000\n",
      "Currently at sample: 83000\n",
      "Currently at sample: 84000\n",
      "Currently at sample: 85000\n",
      "Currently at sample: 86000\n",
      "Currently at sample: 87000\n",
      "Currently at sample: 88000\n",
      "Currently at sample: 89000\n",
      "Currently at sample: 90000\n",
      "Currently at sample: 91000\n",
      "Currently at sample: 92000\n",
      "Currently at sample: 93000\n",
      "Currently at sample: 94000\n",
      "Currently at sample: 95000\n",
      "Currently at sample: 96000\n",
      "Currently at sample: 97000\n",
      "Currently at sample: 98000\n",
      "Currently at sample: 99000\n"
     ]
    }
   ],
   "source": [
    "from datasets import load_dataset\n",
    "import tiktoken\n",
    "\n",
    "enc = tiktoken.get_encoding(\"gpt2\")\n",
    "\n",
    "SAMPLE_SIZE = 100_000\n",
    "\n",
    "dataset = load_dataset(\n",
    "    \"HuggingFaceFW/fineweb\",    \n",
    "    \"CC-MAIN-2013-20\",  \n",
    "    split = \"train\",\n",
    "    streaming=True,\n",
    "    trust_remote_code=True,\n",
    ").shuffle(\n",
    "    buffer_size=10_000,\n",
    "    seed = 42,\n",
    ").take(SAMPLE_SIZE)  \n",
    "\n",
    "def process(example):\n",
    "    ids = enc.encode_ordinary(example['text'])\n",
    "    ids.append(enc.eot_token)\n",
    "    out = {'ids': ids, 'len': len(ids)}\n",
    "    return out\n",
    "\n",
    "# Tokenize the dataset\n",
    "tokenized = dataset.map(\n",
    "    process,\n",
    "    remove_columns=['text'],\n",
    ")\n",
    "\n",
    "print(\"Counting valid samples...\")\n",
    "lens = []\n",
    "for i, sample in enumerate(tokenized):\n",
    "    if i % 10_000 == 0:\n",
    "        print(f\"Currently at sample: {i}\")\n",
    "    lens.append(sample[\"len\"])"
   ]
  },
  {
   "cell_type": "code",
   "execution_count": 35,
   "metadata": {},
   "outputs": [
    {
     "data": {
      "image/png": "[encoded data removed]",
      "text/plain": [
       "<Figure size 640x480 with 1 Axes>"
      ]
     },
     "metadata": {},
     "output_type": "display_data"
    }
   ],
   "source": [
    "import matplotlib.pyplot as plt\n",
    "import numpy as np\n",
    "\n",
    "lens = np.array(lens)\n",
    "plt.hist(lens, bins = np.arange(0, 5_000, 10))\n",
    "plt.title(\n",
    "    f\"Random Sample of {SAMPLE_SIZE:,} Documents from FineWeb\"\n",
    "    f\"\\nAverage Length = {lens.mean()}\"\n",
    "    f\"\\nMedian Length = {np.median(lens)}\"\n",
    "    f\"\\nMax/Min= {np.max(lens):,} / {np.min(lens)}\"\n",
    ")\n",
    "plt.ylabel(\"Number of Documents\")\n",
    "plt.xlabel(\"Number of GPT-2 Tokens\")\n",
    "plt.xlim([0, 5_000])\n",
    "plt.show()"
   ]
  },
  {
   "cell_type": "code",
   "execution_count": 162,
   "metadata": {},
   "outputs": [
    {
     "data": {
      "text/plain": [
       "tensor([   50,  5439,   272,  7125,    12,  2816,    12,    32,   911,   789,\n",
       "        43536,  7123, 10006,    13,   911,   789,  3918, 11662,  2499,   880,\n",
       "          329,   374,  1040,   278,    11,   262,  4104,   503,  1660,   772,\n",
       "           82,   523,  4730,   393,   374,  1040,   274,    13,  1629,   362,\n",
       "           13,    17,  7096,   684,   583, 38573,   262, 43066,  7125,    12,\n",
       "         2816,    12,    32,   318,   257,  1049,  9014,   329,  3210,  9551,\n",
       "          515,   393,   406,  5669,   283,  5202,   277, 14272,   316,  6665,\n",
       "           13,   198,    91, 15667,    25, 15886, 42670,   290, 44171,    91,\n",
       "          198,    91,    37, 14272,   316,  2142, 27018,    25, 15886,    32,\n",
       "          263,  1352,    91, 50256, 50257, 50257, 50257, 50257, 50257, 50257])"
      ]
     },
     "execution_count": 162,
     "metadata": {},
     "output_type": "execute_result"
    }
   ],
   "source": [
    "import datamodule \n",
    "from importlib import reload\n",
    "reload(datamodule)\n",
    "\n",
    "dm = datamodule.MemmapDataModule(\"local_config.json\")\n",
    "\n",
    "dm.setup()\n",
    "ids, _, msk = dm.train_dataset[0]\n",
    "ids"
   ]
  },
  {
   "cell_type": "code",
   "execution_count": 194,
   "metadata": {},
   "outputs": [
    {
     "name": "stdout",
     "output_type": "stream",
     "text": [
      "Modifying HF GPT2Model to accept custom attention mask...\n",
      "Initializing new gpt2...\n"
     ]
    },
    {
     "data": {
      "text/plain": [
       "False"
      ]
     },
     "execution_count": 194,
     "metadata": {},
     "output_type": "execute_result"
    }
   ],
   "source": [
    "from importlib import reload\n",
    "import model\n",
    "reload(model)\n",
    "import torch\n",
    "gpt = model.GPT2(\"local_config.json\")\n",
    "\n",
    "# gpt.eval()\n",
    "out = gpt.gpt2.transformer.forward(\n",
    "    ids[None, :],\n",
    "    attention_mask=torch.tril(\n",
    "        torch.ones((1, 1,ids.shape[0], ids.shape[0]))\n",
    "    )\n",
    ").last_hidden_state\n",
    "\n",
    "out1 = gpt.gpt2.lm_head.forward(out)\n",
    "out2 = gpt.gpt2.forward(\n",
    "    ids[None, :],\n",
    "    attention_mask=torch.tril(\n",
    "        torch.ones((1, 1,ids.shape[0], ids.shape[0]))\n",
    "    )\n",
    ").logits\n",
    "\n",
    "torch.allclose(out1, out2)"
   ]
  }
 ],
 "metadata": {
  "kernelspec": {
   "display_name": "brimax",
   "language": "python",
   "name": "python3"
  },
  "language_info": {
   "codemirror_mode": {
    "name": "ipython",
    "version": 3
   },
   "file_extension": ".py",
   "mimetype": "text/x-python",
   "name": "python",
   "nbconvert_exporter": "python",
   "pygments_lexer": "ipython3",
   "version": "3.12.0"
  }
 },
 "nbformat": 4,
 "nbformat_minor": 2
}
