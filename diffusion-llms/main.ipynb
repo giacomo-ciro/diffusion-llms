{
 "cells": [
  {
   "cell_type": "code",
   "execution_count": null,
   "metadata": {},
   "outputs": [],
   "source": [
    "from transformers import AutoTokenizer, AutoModel\n",
    "from safetensors.torch import load_file\n",
    "\n",
    "# Load model\n",
    "tokenizer = AutoTokenizer.from_pretrained(\"diffusionfamily/diffugpt-s\")\n",
    "model = AutoModel.from_pretrained(\"diffusionfamily/diffugpt-s\")\n",
    "\n",
    "# Get safetensors\n",
    "safetensor_file_path = \"/mnt/c/users/giaco/Downloads/model.safetensors\"\n",
    "model_weights = load_file(safetensor_file_path)\n",
    "\n",
    "# Adjust names\n",
    "state_dict = {k.replace(\"denoise_model.\", \"\"):v for k,v in model_weights.items()}\n",
    "state_dict[\"wte.weight\"] = state_dict[\"embed_tokens.weight\"].clone()\n",
    "del state_dict[\"embed_tokens.weight\"]\n",
    "\n",
    "# Load weights to the model\n",
    "model.load_state_dict(state_dict)"
   ]
  }
 ],
 "metadata": {
  "kernelspec": {
   "display_name": "brimax",
   "language": "python",
   "name": "python3"
  },
  "language_info": {
   "codemirror_mode": {
    "name": "ipython",
    "version": 3
   },
   "file_extension": ".py",
   "mimetype": "text/x-python",
   "name": "python",
   "nbconvert_exporter": "python",
   "pygments_lexer": "ipython3",
   "version": "3.12.0"
  }
 },
 "nbformat": 4,
 "nbformat_minor": 2
}
