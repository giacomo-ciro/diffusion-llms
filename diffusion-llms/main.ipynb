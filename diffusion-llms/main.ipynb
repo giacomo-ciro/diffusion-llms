{
 "cells": [
  {
   "cell_type": "code",
   "execution_count": 56,
   "metadata": {},
   "outputs": [
    {
     "name": "stdout",
     "output_type": "stream",
     "text": [
      "Initializing new GPT-2...\n"
     ]
    }
   ],
   "source": [
    "from importlib import reload\n",
    "import model\n",
    "reload(model)\n",
    "\n",
    "model = model.GPT2(\"./config.json\")"
   ]
  },
  {
   "cell_type": "code",
   "execution_count": 57,
   "metadata": {},
   "outputs": [
    {
     "data": {
      "text/plain": [
       "92"
      ]
     },
     "execution_count": 57,
     "metadata": {},
     "output_type": "execute_result"
    }
   ],
   "source": [
    "p = 0.8\n",
    "context_length = 10\n",
    "B = 3\n",
    "attn_mask = torch.tril(torch.ones(context_length, context_length)).to(torch.bool)\n",
    "attn_unmask = torch.rand(size=(context_length, context_length)) <= p\n",
    "ans = attn_mask | attn_unmask\n",
    "\n",
    "X = torch.randint(0, 10, size = (B, context_length))\n",
    "model.forward(\n",
    "    input_ids=X,\n",
    "    attn_mask=ans\n",
    ")"
   ]
  }
 ],
 "metadata": {
  "kernelspec": {
   "display_name": "brimax",
   "language": "python",
   "name": "python3"
  },
  "language_info": {
   "codemirror_mode": {
    "name": "ipython",
    "version": 3
   },
   "file_extension": ".py",
   "mimetype": "text/x-python",
   "name": "python",
   "nbconvert_exporter": "python",
   "pygments_lexer": "ipython3",
   "version": "3.12.0"
  }
 },
 "nbformat": 4,
 "nbformat_minor": 2
}
