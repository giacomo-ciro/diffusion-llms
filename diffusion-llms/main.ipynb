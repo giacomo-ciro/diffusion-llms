{
 "cells": [
  {
   "cell_type": "code",
   "execution_count": null,
   "metadata": {},
   "outputs": [],
   "source": [
    "import os\n",
    "from datasets import load_dataset \n",
    "\n",
    "# Define how much of the dataset you want to download\n",
    "sample_size = 1_0 \n",
    "\n",
    "# Use streaming to avoid loading the entire dataset into memory\n",
    "dataset = load_dataset(\"openwebtext\", streaming=True)\n",
    "\n",
    "# Take only a subset of the training data\n",
    "sampled_dataset = dataset[\"train\"].take(sample_size)\n",
    "\n",
    "# # Define where to save the downloaded subset\n",
    "# output_dir = \"openwebtext_sample\"\n",
    "# os.makedirs(output_dir, exist_ok=True)\n",
    "\n",
    "# # Save the subset to disk\n",
    "# sampled_dataset.save_to_disk(output_dir)\n",
    "\n",
    "# print(f\"Saved {sample_size} samples to {output_dir}\")"
   ]
  }
 ],
 "metadata": {
  "kernelspec": {
   "display_name": "brimax",
   "language": "python",
   "name": "python3"
  },
  "language_info": {
   "codemirror_mode": {
    "name": "ipython",
    "version": 3
   },
   "file_extension": ".py",
   "mimetype": "text/x-python",
   "name": "python",
   "nbconvert_exporter": "python",
   "pygments_lexer": "ipython3",
   "version": "3.12.0"
  }
 },
 "nbformat": 4,
 "nbformat_minor": 2
}
