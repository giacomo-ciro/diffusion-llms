{
 "cells": [
  {
   "cell_type": "markdown",
   "metadata": {},
   "source": [
    "Load pre-trained DiffuGPT Model.  \n",
    "\n",
    "The pipeline is copied from `inf_diffugpt.py` from the DiffuGPT paper. They load the weights from the hub using `strict=False`, and ingore the missin `LMHead`. Effectively loading the weights from DiffuGPT and the LMHead from gpt2. Makes sense? Apparently..."
   ]
  },
  {
   "cell_type": "code",
   "execution_count": 71,
   "metadata": {},
   "outputs": [
    {
     "name": "stdout",
     "output_type": "stream",
     "text": [
      "Modifying HF GPT2Model to accept custom attention mask...\n",
      "Loading pre-trained gpt2...\n"
     ]
    },
    {
     "data": {
      "text/plain": [
       "_IncompatibleKeys(missing_keys=['gpt2.lm_head.weight'], unexpected_keys=[])"
      ]
     },
     "execution_count": 71,
     "metadata": {},
     "output_type": "execute_result"
    }
   ],
   "source": [
    "from safetensors.torch import load_file\n",
    "import model\n",
    "from importlib import reload\n",
    "\n",
    "reload(model)\n",
    "\n",
    "# Load model\n",
    "model = model.GPT2(\"local_config.json\")\n",
    "\n",
    "# Get safetensors\n",
    "safetensor_file_path = \"/mnt/c/users/giaco/Downloads/model.safetensors\"\n",
    "model_weights = load_file(safetensor_file_path)\n",
    "\n",
    "# Adjust names\n",
    "state_dict = {k.replace(\"denoise_model\", \"gpt2.transformer\"):v for k,v in model_weights.items()}\n",
    "state_dict[\"gpt2.transformer.wte.weight\"] = state_dict[\"embed_tokens.weight\"].clone()\n",
    "del state_dict[\"embed_tokens.weight\"]\n",
    "\n",
    "# Load weights to the model\n",
    "model.load_state_dict(state_dict, strict=False)"
   ]
  },
  {
   "cell_type": "markdown",
   "metadata": {},
   "source": [
    "Generate with pre-trained model.\n",
    "\n",
    "![dump/diffugpt_tokenizer.png](dump/diffugpt_tokenizer.png)"
   ]
  },
  {
   "cell_type": "code",
   "execution_count": 158,
   "metadata": {},
   "outputs": [
    {
     "name": "stdout",
     "output_type": "stream",
     "text": [
      "prompt:  Oh mama, what is your name\n",
      "input_ids: torch.Size([1, 8])\n",
      "logits:  torch.Size([1, 18])\n",
      "out:  Oh mama, what is your name, ingredients name choice what your your, is what\n"
     ]
    }
   ],
   "source": [
    "import tiktoken\n",
    "import torch\n",
    "from utils import get_annealing_mask\n",
    "\n",
    "prompt = \"Oh mama, what is your name\"\n",
    "\n",
    "tokenizer = tiktoken.get_encoding(\"gpt2\")\n",
    "\n",
    "input_ids = torch.tensor(\n",
    "    tokenizer.encode(prompt)\n",
    ").unsqueeze(0)\n",
    "\n",
    "msk = get_annealing_mask(input_ids.shape[1], input_ids.shape[0], 1.0)\n",
    "\n",
    "output_ids = model.generate(input_ids, max_new_tokens=10)\n",
    "\n",
    "out = tokenizer.decode(\n",
    "    output_ids[0].tolist()\n",
    ")\n",
    "\n",
    "# Logging\n",
    "print(\"prompt: \", prompt)\n",
    "print(\"input_ids:\", input_ids.shape)\n",
    "print(\"logits: \", output_ids.shape)\n",
    "print(\"out: \", out)"
   ]
  }
 ],
 "metadata": {
  "kernelspec": {
   "display_name": "brimax",
   "language": "python",
   "name": "python3"
  },
  "language_info": {
   "codemirror_mode": {
    "name": "ipython",
    "version": 3
   },
   "file_extension": ".py",
   "mimetype": "text/x-python",
   "name": "python",
   "nbconvert_exporter": "python",
   "pygments_lexer": "ipython3",
   "version": "3.12.0"
  }
 },
 "nbformat": 4,
 "nbformat_minor": 2
}
