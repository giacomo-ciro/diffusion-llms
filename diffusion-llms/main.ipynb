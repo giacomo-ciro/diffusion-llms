{
 "cells": [
  {
   "cell_type": "markdown",
   "metadata": {},
   "source": [
    "Generate with pre-trained model.\n",
    "\n",
    "![dump/diffugpt_tokenizer.png](dump/diffugpt_tokenizer.png)"
   ]
  },
  {
   "cell_type": "code",
   "execution_count": 33,
   "metadata": {},
   "outputs": [
    {
     "name": "stdout",
     "output_type": "stream",
     "text": [
      "Modifying HF GPT2Model to accept custom attention mask...\n",
      "Loading pre-trained DiffuGPT...\n",
      "<All keys matched successfully>\n",
      "tensor([[False, False, False, False, False, False, False, False, False, False,\n",
      "         False, False, False, False, False, False, False, False, False, False,\n",
      "         False, False, False, False, False,  True,  True, False, False, False,\n",
      "         False, False, False, False, False]])\n",
      "tensor([[False, False, False, False, False, False, False, False, False, False,\n",
      "         False, False, False, False, False, False, False, False, False, False,\n",
      "         False, False, False, False, False, False, False, False, False,  True,\n",
      "          True, False, False, False, False]])\n",
      "tensor([[False, False, False, False, False, False, False, False, False, False,\n",
      "         False, False, False, False, False, False, False, False, False, False,\n",
      "         False, False, False, False, False, False, False, False, False, False,\n",
      "         False, False,  True, False,  True]])\n",
      "tensor([[False, False, False, False, False, False, False, False, False, False,\n",
      "         False, False, False, False, False, False, False, False, False, False,\n",
      "         False, False, False, False, False, False, False, False, False, False,\n",
      "         False,  True, False,  True, False]])\n",
      "tensor([[False, False, False, False, False, False, False, False, False, False,\n",
      "         False, False, False, False, False, False, False, False, False, False,\n",
      "         False, False, False, False, False, False, False,  True,  True, False,\n",
      "         False, False, False, False, False]])\n",
      "exiting at step  3\n",
      "<|endoftext|>Then, the man writes over the snow covering the window of a car, and a woman wearing winter clothes smiles. then<mask><mask><mask><mask><mask><mask><mask><mask><mask><mask>\n",
      "<|endoftext|>Then, the man writes over the snow covering the window of a car, and a woman wearing winter clothes smiles. then, the<mask><mask><mask><mask><mask><mask><mask><mask>\n",
      "<|endoftext|>Then, the man writes over the snow covering the window of a car, and a woman wearing winter clothes smiles. then, the<mask><mask> that,<mask><mask><mask><mask>\n",
      "<|endoftext|>Then, the man writes over the snow covering the window of a car, and a woman wearing winter clothes smiles. then, the<mask><mask> that,<mask>,<mask> nobility\n",
      "<|endoftext|>Then, the man writes over the snow covering the window of a car, and a woman wearing winter clothes smiles. then, the<mask><mask> that, when, Then nobility\n",
      "<|endoftext|>Then, the man writes over the snow covering the window of a car, and a woman wearing winter clothes smiles. then, the Anders providing that, when, Then nobility\n"
     ]
    }
   ],
   "source": [
    "import tiktoken\n",
    "import torch\n",
    "from utils import get_annealing_mask\n",
    "import model\n",
    "from importlib import reload\n",
    "reload(model)\n",
    "\n",
    "# Load model\n",
    "gpt = model.GPT2(\"local_config.json\")\n",
    "\n",
    "# Load Tokenizer\n",
    "tokenizer = tiktoken.get_encoding(\"gpt2\")\n",
    "\n",
    "# Prompt\n",
    "prompt = \"Then, the man writes over the snow covering the window of a car, and a woman wearing winter clothes smiles. then\"\n",
    "\n",
    "mask_token = tokenizer.decode([10541])\n",
    "\n",
    "input_ids = torch.tensor(\n",
    "    [50256] + tokenizer.encode(prompt)\n",
    ").unsqueeze(0)\n",
    "\n",
    "xs = gpt.generate(input_ids, max_new_tokens=10)\n",
    "\n",
    "for x in xs:\n",
    "    out = tokenizer.decode(\n",
    "        x[0].tolist()\n",
    "    )\n",
    "    out = out.replace(mask_token, \"<mask>\")\n",
    "    print(out)"
   ]
  },
  {
   "cell_type": "markdown",
   "metadata": {},
   "source": [
    "## Test training pipeline"
   ]
  },
  {
   "cell_type": "code",
   "execution_count": 11,
   "metadata": {},
   "outputs": [
    {
     "name": "stdout",
     "output_type": "stream",
     "text": [
      "Modifying HF GPT2Model to accept custom attention mask...\n",
      "Loading pre-trained DiffuGPT...\n",
      "<All keys matched successfully>\n"
     ]
    },
    {
     "data": {
      "text/plain": [
       "tensor([25119, 19966,  4846,    13,   785,   532,  2691, 19966,  4846, 13864,\n",
       "          290,  6188,    13,   198, 11828,    25,  2691, 19966,  4846,    13,\n",
       "          785,   318,   534,   717,   290,  1266,  2723,   329,  1321,   546,\n",
       "         2691, 19966,  4846,   764,  3423,   345,   481,   635,  1064, 10233,\n",
       "        11270,   284,  2428,   286,  2276,  1393,    13,   775,  2911,   345,\n",
       "         1064,   644,   345,   389,  2045,   329,     0,  7383, 10879,    25,\n",
       "          198, 32945,  1830,    11, 25360,  5776,    11,  2691,  1830,    11,\n",
       "         2691,  1830,   284, 34722,    11,   512,  1122,  3281, 50256, 50257,\n",
       "        50257, 50257, 50257, 50257, 50257, 50257, 50257, 50257, 50257, 50257,\n",
       "        50257, 50257, 50257, 50257, 50257, 50257, 50257, 50257, 50257, 50257])"
      ]
     },
     "execution_count": 11,
     "metadata": {},
     "output_type": "execute_result"
    }
   ],
   "source": [
    "from datamodule import MemmapDataModule\n",
    "from importlib import reload\n",
    "import model\n",
    "reload(model)\n",
    "\n",
    "gpt = model.GPT2(\"local_config.json\")\n",
    "dm = MemmapDataModule(\"local_config.json\")\n",
    "\n",
    "dm.setup()\n",
    "X, y, msk = dm.train_dataset[0]\n",
    "X"
   ]
  },
  {
   "cell_type": "code",
   "execution_count": 8,
   "metadata": {},
   "outputs": [
    {
     "data": {
      "text/plain": [
       "torch.Size([50258, 768])"
      ]
     },
     "execution_count": 8,
     "metadata": {},
     "output_type": "execute_result"
    }
   ],
   "source": [
    "gpt.gpt2.transformer.wte.weight.shape"
   ]
  },
  {
   "cell_type": "code",
   "execution_count": 9,
   "metadata": {},
   "outputs": [
    {
     "data": {
      "text/plain": [
       "torch.Size([50258, 768])"
      ]
     },
     "execution_count": 9,
     "metadata": {},
     "output_type": "execute_result"
    }
   ],
   "source": [
    "gpt.gpt2.lm_head.weight.shape"
   ]
  },
  {
   "cell_type": "code",
   "execution_count": 12,
   "metadata": {},
   "outputs": [
    {
     "data": {
      "text/plain": [
       "tensor(9.4722, grad_fn=<NllLossBackward0>)"
      ]
     },
     "execution_count": 12,
     "metadata": {},
     "output_type": "execute_result"
    }
   ],
   "source": [
    "gpt.training_step(next(iter(dm.train_dataloader())), 0)"
   ]
  },
  {
   "cell_type": "code",
   "execution_count": 14,
   "metadata": {},
   "outputs": [
    {
     "name": "stdout",
     "output_type": "stream",
     "text": [
      "torch.Size([10, 128])\n",
      "torch.Size([11, 128])\n"
     ]
    }
   ],
   "source": [
    "import torch.nn as nn\n",
    "import torch\n",
    "\n",
    "wte = nn.Embedding(10, 128)\n",
    "print(wte.weight.shape)\n",
    "\n",
    "with torch.no_grad():\n",
    "    new_wte = nn.Embedding(wte.weight.shape[0]+1, wte.weight.shape[1])\n",
    "    new_wte.weight[:-1] = wte.weight\n",
    "    new_wte.weight[-1] = torch.mean(wte.weight, axis = 0)\n",
    "print(new_wte.weight.shape)"
   ]
  }
 ],
 "metadata": {
  "kernelspec": {
   "display_name": "brimax",
   "language": "python",
   "name": "python3"
  },
  "language_info": {
   "codemirror_mode": {
    "name": "ipython",
    "version": 3
   },
   "file_extension": ".py",
   "mimetype": "text/x-python",
   "name": "python",
   "nbconvert_exporter": "python",
   "pygments_lexer": "ipython3",
   "version": "3.12.0"
  }
 },
 "nbformat": 4,
 "nbformat_minor": 2
}
