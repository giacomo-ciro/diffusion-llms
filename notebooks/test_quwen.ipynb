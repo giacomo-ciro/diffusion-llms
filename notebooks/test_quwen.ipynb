{
 "cells": [
  {
   "cell_type": "code",
   "execution_count": 1,
   "id": "77ceb596",
   "metadata": {},
   "outputs": [],
   "source": [
    "import torch\n",
    "import sys\n",
    "from transformers import AutoModelForCausalLM, AutoTokenizer\n",
    "\n",
    "sys.path.append(\"..\")\n",
    "torch.mps.empty_cache()"
   ]
  },
  {
   "cell_type": "code",
   "execution_count": 2,
   "id": "76f33021",
   "metadata": {},
   "outputs": [
    {
     "name": "stdout",
     "output_type": "stream",
     "text": [
      "Dataset split: Train=13538, Val=712, Test=5000\n"
     ]
    }
   ],
   "source": [
    "from diffusion_llms.dataloader.llada_2 import DataModule\n",
    "config = {\n",
    "    \"batch_size\": 8,\n",
    "    \"num_workers\": 1,\n",
    "    \"pin_memory\": True,\n",
    "    \"max_length\": 1024,\n",
    "    \"val_test_perc\": 0.05,\n",
    "    \"context_length\": 1024,\n",
    "\n",
    "}\n",
    "tokenizer = AutoTokenizer.from_pretrained(\"GSAI-ML/LLaDA-8B-Instruct\")\n",
    "dm = DataModule(config, tokenizer)\n",
    "dm.setup()"
   ]
  },
  {
   "cell_type": "code",
   "execution_count": 3,
   "id": "84a57e05",
   "metadata": {},
   "outputs": [
    {
     "name": "stderr",
     "output_type": "stream",
     "text": [
      "/opt/homebrew/Caskroom/miniconda/base/lib/python3.12/site-packages/torch/utils/data/dataloader.py:683: UserWarning: 'pin_memory' argument is set as true but not supported on MPS now, then device pinned memory won't be used.\n",
      "  warnings.warn(warn_msg)\n"
     ]
    }
   ],
   "source": [
    "avg_out_len = 0\n",
    "n_0 = 0\n",
    "n_1 = 0\n",
    "max_out_len = 0\n",
    "for i, batch in enumerate(dm.train_dataloader()):\n",
    "\n",
    "    max_out_len = max(max_out_len, batch[\"true_length\"].max())\n",
    "    avg_out_len += batch[\"true_length\"].sum()\n",
    "    avg_out_len /= batch[\"true_length\"].shape[0]\n",
    "\n",
    "    n_0 += (batch[\"eos_labels\"] == 0).sum()\n",
    "    n_1 += (batch[\"eos_labels\"] == 1).sum()"
   ]
  },
  {
   "cell_type": "code",
   "execution_count": 4,
   "id": "2e5df202",
   "metadata": {},
   "outputs": [
    {
     "name": "stdout",
     "output_type": "stream",
     "text": [
      "avg_out_len: 270.8659362792969, n_0: 3006714, n_1: 10856198 max_out_len: 821.0\n",
      "Pos weight: 0.27695828676223755\n"
     ]
    }
   ],
   "source": [
    "print(\n",
    "    f\"avg_out_len: {avg_out_len}, n_0: {n_0}, n_1: {n_1} max_out_len: {max_out_len}\"\n",
    ")\n",
    "\n",
    "print(f\"Pos weight: {n_0 / n_1}\")"
   ]
  },
  {
   "cell_type": "code",
   "execution_count": 8,
   "id": "e85e0a8c",
   "metadata": {},
   "outputs": [
    {
     "data": {
      "text/plain": [
       "'<|start_header_id|>'"
      ]
     },
     "execution_count": 8,
     "metadata": {},
     "output_type": "execute_result"
    }
   ],
   "source": [
    "tokenizer.decode([126346])"
   ]
  },
  {
   "cell_type": "code",
   "execution_count": 6,
   "id": "64eefe0d",
   "metadata": {},
   "outputs": [
    {
     "data": {
      "text/plain": [
       "'<|startoftext|><|start_header_id|>user<|end_header_id|>\\n\\nWhat is your name?<|eot_id|><|start_header_id|>assistant<|end_header_id|>\\n\\n'"
      ]
     },
     "execution_count": 6,
     "metadata": {},
     "output_type": "execute_result"
    }
   ],
   "source": [
    "m = [{\"role\": \"user\", \"content\": \"What is your name?\"}, ]\n",
    "tokenizer.apply_chat_template(m, add_generation_prompt=True, tokenize=False)"
   ]
  },
  {
   "cell_type": "code",
   "execution_count": null,
   "id": "02585198",
   "metadata": {},
   "outputs": [],
   "source": [
    "\n",
    "model_name = \"Qwen/Qwen3-0.6B\"\n",
    "\n",
    "# load the tokenizer and the model\n",
    "tokenizer = AutoTokenizer.from_pretrained(model_name)\n",
    "model = AutoModelForCausalLM.from_pretrained(\n",
    "    model_name, torch_dtype=\"auto\", device_map=\"auto\"\n",
    ")\n",
    "\n",
    "# prepare the model input\n",
    "prompt = \"Hi. What is your name?\"\n",
    "# messages = [\n",
    "#    {\"role\": \"user\", \"content\": prompt}\n",
    "# ]\n",
    "# text = tokenizer.apply_chat_template(\n",
    "#    messages,\n",
    "#    tokenize=False,\n",
    "#    add_generation_prompt=True,\n",
    "#    enable_thinking=False # Switches between thinking and non-thinking modes. Default is True.\n",
    "# )\n",
    "model_inputs = tokenizer([prompt], return_tensors=\"pt\").to(model.device)\n",
    "\n",
    "# conduct text completion\n",
    "generated_ids = model.generate(\n",
    "    **model_inputs,\n",
    "    max_new_tokens=128,\n",
    "    eos_token_id=tokenizer.pad_token_id,\n",
    "    pad_token_id=tokenizer.pad_token_id,  # Optional but keeps things clean for batching\n",
    ")\n",
    "output_ids = generated_ids[0][len(model_inputs.input_ids[0]) :].tolist()\n",
    "\n",
    "# parsing thinking content\n",
    "try:\n",
    "    # rindex finding 151668 (</think>)\n",
    "    index = len(output_ids) - output_ids[::-1].index(151668)\n",
    "except ValueError:\n",
    "    index = 0\n",
    "\n",
    "thinking_content = tokenizer.decode(output_ids[:index], skip_special_tokens=True).strip(\n",
    "    \"\\n\"\n",
    ")\n",
    "content = tokenizer.decode(output_ids[index:], skip_special_tokens=True).strip(\"\\n\")\n",
    "\n",
    "print(\"thinking content:\", thinking_content)\n",
    "print(\"content:\", content)"
   ]
  }
 ],
 "metadata": {
  "kernelspec": {
   "display_name": "base",
   "language": "python",
   "name": "python3"
  },
  "language_info": {
   "codemirror_mode": {
    "name": "ipython",
    "version": 3
   },
   "file_extension": ".py",
   "mimetype": "text/x-python",
   "name": "python",
   "nbconvert_exporter": "python",
   "pygments_lexer": "ipython3",
   "version": "3.12.9"
  }
 },
 "nbformat": 4,
 "nbformat_minor": 5
}
