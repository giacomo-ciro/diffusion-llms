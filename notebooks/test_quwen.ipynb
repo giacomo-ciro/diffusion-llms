{
 "cells": [
  {
   "cell_type": "code",
   "execution_count": 1,
   "id": "77ceb596",
   "metadata": {},
   "outputs": [],
   "source": [
    "import torch\n",
    "import sys\n",
    "from transformers import AutoModelForCausalLM, AutoTokenizer\n",
    "\n",
    "sys.path.append(\"..\")\n",
    "torch.mps.empty_cache()"
   ]
  },
  {
   "cell_type": "code",
   "execution_count": 2,
   "id": "76f33021",
   "metadata": {},
   "outputs": [
    {
     "name": "stdout",
     "output_type": "stream",
     "text": [
      "Dataset split: Train=13538, Val=712, Test=5000\n"
     ]
    }
   ],
   "source": [
    "from diffusion_llms.dataloader.llada_2 import DataModule\n",
    "config = {\n",
    "    \"batch_size\": 8,\n",
    "    \"num_workers\": 1,\n",
    "    \"pin_memory\": True,\n",
    "    \"max_length\": 1024,\n",
    "    \"val_test_perc\": 0.05,\n",
    "\n",
    "}\n",
    "tokenizer = AutoTokenizer.from_pretrained(\"GSAI-ML/LLaDA-8B-Instruct\")\n",
    "dm = DataModule(config, tokenizer)\n",
    "dm.setup()"
   ]
  },
  {
   "cell_type": "code",
   "execution_count": 3,
   "id": "84a57e05",
   "metadata": {},
   "outputs": [
    {
     "name": "stdout",
     "output_type": "stream",
     "text": [
      "Batch 0:\n",
      "Input IDs: tensor([[126080, 126346,   3840,  ..., 126336, 126336, 126336],\n",
      "        [126080, 126346,   3840,  ..., 126336, 126336, 126336],\n",
      "        [126080, 126346,   3840,  ..., 126336, 126336, 126336],\n",
      "        ...,\n",
      "        [126080, 126346,   3840,  ..., 126336, 126336, 126336],\n",
      "        [126080, 126346,   3840,  ..., 126336, 126336, 126336],\n",
      "        [126080, 126346,   3840,  ..., 126336, 126336, 126336]])\n",
      "Labels: tensor([[0, 0, 0,  ..., 1, 1, 1],\n",
      "        [0, 0, 0,  ..., 1, 1, 1],\n",
      "        [0, 0, 0,  ..., 1, 1, 1],\n",
      "        ...,\n",
      "        [0, 0, 0,  ..., 1, 1, 1],\n",
      "        [0, 0, 0,  ..., 1, 1, 1],\n",
      "        [0, 0, 0,  ..., 1, 1, 1]])\n",
      "Batch Size: 8\n",
      "Sequence Length: tensor([166, 145, 486, 155, 146, 184, 366, 197])\n"
     ]
    },
    {
     "name": "stderr",
     "output_type": "stream",
     "text": [
      "/opt/homebrew/Caskroom/miniconda/base/lib/python3.12/site-packages/torch/utils/data/dataloader.py:683: UserWarning: 'pin_memory' argument is set as true but not supported on MPS now, then device pinned memory won't be used.\n",
      "  warnings.warn(warn_msg)\n"
     ]
    }
   ],
   "source": [
    "for i, batch in enumerate(dm.train_dataloader()):\n",
    "    print(f\"Batch {i}:\")\n",
    "    print(\"Input IDs:\", batch[\"input_ids\"])\n",
    "    print(\"Labels:\", batch[\"eos_labels\"])\n",
    "    print(\"Batch Size:\", batch[\"input_ids\"].shape[0])\n",
    "    print(\"Sequence Length:\", batch[\"true_length\"])\n",
    "    break"
   ]
  },
  {
   "cell_type": "code",
   "execution_count": null,
   "id": "02585198",
   "metadata": {},
   "outputs": [],
   "source": [
    "\n",
    "model_name = \"Qwen/Qwen3-0.6B\"\n",
    "\n",
    "# load the tokenizer and the model\n",
    "tokenizer = AutoTokenizer.from_pretrained(model_name)\n",
    "model = AutoModelForCausalLM.from_pretrained(\n",
    "    model_name, torch_dtype=\"auto\", device_map=\"auto\"\n",
    ")\n",
    "\n",
    "# prepare the model input\n",
    "prompt = \"Hi. What is your name?\"\n",
    "# messages = [\n",
    "#    {\"role\": \"user\", \"content\": prompt}\n",
    "# ]\n",
    "# text = tokenizer.apply_chat_template(\n",
    "#    messages,\n",
    "#    tokenize=False,\n",
    "#    add_generation_prompt=True,\n",
    "#    enable_thinking=False # Switches between thinking and non-thinking modes. Default is True.\n",
    "# )\n",
    "model_inputs = tokenizer([prompt], return_tensors=\"pt\").to(model.device)\n",
    "\n",
    "# conduct text completion\n",
    "generated_ids = model.generate(\n",
    "    **model_inputs,\n",
    "    max_new_tokens=128,\n",
    "    eos_token_id=tokenizer.pad_token_id,\n",
    "    pad_token_id=tokenizer.pad_token_id,  # Optional but keeps things clean for batching\n",
    ")\n",
    "output_ids = generated_ids[0][len(model_inputs.input_ids[0]) :].tolist()\n",
    "\n",
    "# parsing thinking content\n",
    "try:\n",
    "    # rindex finding 151668 (</think>)\n",
    "    index = len(output_ids) - output_ids[::-1].index(151668)\n",
    "except ValueError:\n",
    "    index = 0\n",
    "\n",
    "thinking_content = tokenizer.decode(output_ids[:index], skip_special_tokens=True).strip(\n",
    "    \"\\n\"\n",
    ")\n",
    "content = tokenizer.decode(output_ids[index:], skip_special_tokens=True).strip(\"\\n\")\n",
    "\n",
    "print(\"thinking content:\", thinking_content)\n",
    "print(\"content:\", content)"
   ]
  }
 ],
 "metadata": {
  "kernelspec": {
   "display_name": "base",
   "language": "python",
   "name": "python3"
  },
  "language_info": {
   "codemirror_mode": {
    "name": "ipython",
    "version": 3
   },
   "file_extension": ".py",
   "mimetype": "text/x-python",
   "name": "python",
   "nbconvert_exporter": "python",
   "pygments_lexer": "ipython3",
   "version": "3.12.9"
  }
 },
 "nbformat": 4,
 "nbformat_minor": 5
}
