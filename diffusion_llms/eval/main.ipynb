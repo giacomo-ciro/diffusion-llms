{
 "cells": [
  {
   "cell_type": "code",
   "execution_count": 17,
   "id": "190f5bb5",
   "metadata": {},
   "outputs": [],
   "source": [
    "import numpy as np\n",
    "\n",
    "arr = np.load(\"zero_shot\").round()\n",
    "\n",
    "\n",
    "np.save(\"logit_25\", arr[:, 0])\n",
    "np.save(\"logit_50\", arr[:, 1])\n",
    "np.save(\"logit_75\", arr[:, 2])"
   ]
  },
  {
   "cell_type": "code",
   "execution_count": 20,
   "id": "52256b3e",
   "metadata": {},
   "outputs": [
    {
     "data": {
      "text/plain": [
       "array([815., 601., 129., ..., 689.,  27., 587.])"
      ]
     },
     "execution_count": 20,
     "metadata": {},
     "output_type": "execute_result"
    }
   ],
   "source": [
    "arr = np.load(\"logit_25.npy\")\n",
    "arr"
   ]
  },
  {
   "cell_type": "code",
   "execution_count": 19,
   "id": "f9f522bd",
   "metadata": {},
   "outputs": [
    {
     "data": {
      "text/plain": [
       "array([150., 300.,  98., ..., 133., 316., 155.])"
      ]
     },
     "execution_count": 19,
     "metadata": {},
     "output_type": "execute_result"
    }
   ],
   "source": [
    "arr = np.load(\"bert_reg.npy\")\n",
    "arr"
   ]
  }
 ],
 "metadata": {
  "kernelspec": {
   "display_name": "brimax",
   "language": "python",
   "name": "python3"
  },
  "language_info": {
   "codemirror_mode": {
    "name": "ipython",
    "version": 3
   },
   "file_extension": ".py",
   "mimetype": "text/x-python",
   "name": "python",
   "nbconvert_exporter": "python",
   "pygments_lexer": "ipython3",
   "version": "3.12.0"
  }
 },
 "nbformat": 4,
 "nbformat_minor": 5
}
